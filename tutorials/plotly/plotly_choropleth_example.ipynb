{
  "cells": [
    {
      "cell_type": "code",
      "source": [
        "'''\n",
        "First, we need to access some useful bits of pre-written code. This code lives in a separate file called a \"module\". \n",
        "By \"import\"ing the module, you add all of its contents to your \"environment\".\n",
        "That just means that this notebook now knows about all of the code in the modules, even though you don't see the text. \n",
        "'''\n",
        "\n",
        "import plotly.plotly as py # plotly makes interactive plots\n",
        "import pandas as pd # pandas handles your dataset"
      ],
      "outputs": [],
      "execution_count": 11,
      "metadata": {
        "collapsed": false,
        "outputHidden": false,
        "inputHidden": false
      }
    },
    {
      "cell_type": "code",
      "source": [
        "# we reference a function in the pandas module by calling pd.function\n",
        "# here, we use the read_csv file to load the raw data and store it in a variable called raw_data\n",
        "raw_data = pd.read_csv('https://raw.githubusercontent.com/plotly/datasets/master/2014_world_gdp_with_codes.csv')\n",
        "\n",
        "# we can peek at the raw data like this:\n",
        "print 'raw_data is this type: ', type(raw_data)\n",
        "print raw_data.head()\n"
      ],
      "outputs": [
        {
          "output_type": "stream",
          "name": "stdout",
          "text": [
            "raw_data is this type:  <class 'pandas.core.frame.DataFrame'>\n",
            "          COUNTRY  GDP (BILLIONS) CODE\n",
            "0     Afghanistan           21.71  AFG\n",
            "1         Albania           13.40  ALB\n",
            "2         Algeria          227.80  DZA\n",
            "3  American Samoa            0.75  ASM\n",
            "4         Andorra            4.80  AND\n"
          ]
        }
      ],
      "execution_count": 12,
      "metadata": {
        "collapsed": false,
        "outputHidden": false,
        "inputHidden": false
      }
    },
    {
      "cell_type": "markdown",
      "source": [
        "Here, we see that our raw data is stored in a special kind of object called a \"data frame\". Don't worry about this too much; you can see that it's basically columns, called \"COUNTRY\", \"GDP (BILLIONS)\", AND A COUNTRY \"CODE\", with a row for each country. "
      ],
      "metadata": {}
    },
    {
      "cell_type": "code",
      "source": [
        "# Plotly needs to know two things: what data do you want to display, and how do you want to display it? \n",
        "\n",
        "# We'll start with the data itself. We can define a bunch of \"attributes\" and \"values\" in a dictionary. \n",
        "# The available \"attributes\" are pre-defined by plotly; \n",
        "# just look at the example code in the plotly gallery to see which attributes are available to you. \n",
        "\n",
        "data_config = {\n",
        "    'type': 'choropleth', # the \"type\" attribute stores the type of plot that plotly will make; \n",
        "                        # this helps it know what kind of data to look for\n",
        "    'locations': raw_data['CODE'], # tell plotly to look at the \"CODE\" column of the raw data to define locations\n",
        "    'z': raw_data['GDP (BILLIONS)'], # plotly will define x and y from the country location; \n",
        "                                  # z is the third variable, that is used to color the map. \n",
        "                                  # tell plotly to look for the GDP column in the raw data.\n",
        "    'text': raw_data['COUNTRY'], # what to use to label each location\n",
        "  }"
      ],
      "outputs": [],
      "execution_count": 23,
      "metadata": {
        "collapsed": false,
        "outputHidden": false,
        "inputHidden": false
      }
    },
    {
      "cell_type": "code",
      "source": [
        "### Cool. Plotly knows we're making a chloropleth map, and what data to use. Let's customize the display.\n",
        "layout_config = {\n",
        "    'title' : '2014 Global GDP',\n",
        "    'geo' : {\n",
        "        'showframe' : False,\n",
        "        'showcoastlines' : False,\n",
        "        'projection': {'type': 'Mercator'}\n",
        "    }\n",
        "}\n",
        "\n",
        "### Ready to go! Let's hand our config dictionaries to plotly and check it out.\n",
        "config = {'data': [data_config], \n",
        "         'layout': layout_config}\n",
        "\npy.iplot( config, validate=False, filename='d3-world-map' )"
      ],
      "outputs": [
        {
          "output_type": "execute_result",
          "execution_count": 24,
          "data": {
            "text/plain": [
              "<plotly.tools.PlotlyDisplay object>"
            ],
            "text/html": [
              "<iframe id=\"igraph\" scrolling=\"no\" style=\"border:none;\" seamless=\"seamless\" src=\"https://plot.ly/~sidneymbell/8.embed\" height=\"525px\" width=\"100%\"></iframe>"
            ]
          },
          "metadata": {}
        }
      ],
      "execution_count": 24,
      "metadata": {
        "collapsed": false,
        "outputHidden": false,
        "inputHidden": false
      }
    },
    {
      "cell_type": "code",
      "source": [],
      "outputs": [],
      "execution_count": null,
      "metadata": {
        "collapsed": false,
        "outputHidden": false,
        "inputHidden": false
      }
    }
  ],
  "metadata": {
    "kernelspec": {
      "name": "python2",
      "language": "python",
      "display_name": "Python 2"
    },
    "kernel_info": {
      "name": "python2"
    },
    "language_info": {
      "mimetype": "text/x-python",
      "nbconvert_exporter": "python",
      "name": "python",
      "pygments_lexer": "ipython2",
      "version": "2.7.10",
      "file_extension": ".py",
      "codemirror_mode": {
        "version": 2,
        "name": "ipython"
      }
    },
    "nteract": {
      "version": "0.4.3"
    }
  },
  "nbformat": 4,
  "nbformat_minor": 4
}