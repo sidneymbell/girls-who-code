{
  "cells": [
    {
      "cell_type": "code",
      "source": [
        "import plotly.plotly as py # plotly makes interactive plots\n",
        "import pandas as pd # pandas handles your dataset"
      ],
      "outputs": [],
      "execution_count": 11,
      "metadata": {
        "collapsed": false,
        "outputHidden": false,
        "inputHidden": false
      }
    },
    {
      "cell_type": "markdown",
      "source": [
        "## First, pick an example from the plotly gallery.  \n",
        "For this tutorial, we'll be using [this example](https://plot.ly/python/choropleth-maps/#world-choropleth-map).  \n",
        "An annotated copy of the code used to make that example is [here](https://github.com/sidneymbell/girls-who-code/blob/master/tutorials/plotly/plotly_choropleth_example.ipynb).  \n",
        "  \n",
        "__First, take a few minutes to look at the data used in the example:__ \n",
        "* What columns are in the data?  \n",
        "* How is each column formatted?  \n",
        "This is how plotly is expecting to find the input data, so it's useful to look here first.  \n",
        "\n",
        "_Note: you may need to use different column names for your map, which is fine. If you need to do more extensive reformatting for some reason, just ask Sarah or Sidney for help and they'll get it sorted for you._  \n",
        "  \n",
        "__Second, look through the annotated code itself:__  \n",
        "* Can you identify what each line is doing? \n",
        "* Can you find an example of a variable and a dictionary?  \n",
        "* Find somewhere that the example code uses a string to _index_ a column.  \n",
        "  \n",
        "__Cool. So now we know what we're aiming towards, let's make a similar map of X data.__"
      ],
      "metadata": {}
    },
    {
      "cell_type": "code",
      "source": [
        "# read in the raw data\n",
        "raw_data = pd.read_csv('https://raw.githubusercontent.com/plotly/datasets/master/2014_world_gdp_with_codes.csv')\n",
        "\n",
        "# print the type and first few rows of raw_data\n",
        "# what \"type\" is raw_data?\n",
        "# what do the first few rows of raw_data look like?\n",
        "# what columns are in raw_data ? "
      ],
      "outputs": [],
      "execution_count": 25,
      "metadata": {
        "collapsed": false,
        "outputHidden": false,
        "inputHidden": false
      }
    },
    {
      "cell_type": "code",
      "source": [
        "# Let's tell plotly how to deal with our data\n",
        "data_config = {\n",
        "    'type': 'choropleth',    # first, we've told plotly what kind of chart we're making (a choropleth map)\n",
        "    'locations': raw_data[], # tell plotly to which column to look in for the locations\n",
        "    'z': ,                 # tell plotly to which column to look in for the color\n",
        "    'text': , # tell plotly to which column to look in for the mouse-over labels\n",
        "  }"
      ],
      "outputs": [
        {
          "output_type": "error",
          "ename": "SyntaxError",
          "evalue": "invalid syntax (<ipython-input-27-18cf929b9cff>, line 5)",
          "traceback": [
            "\u001b[0;36m  File \u001b[0;32m\"<ipython-input-27-18cf929b9cff>\"\u001b[0;36m, line \u001b[0;32m5\u001b[0m\n\u001b[0;31m    'z': ,                 # tell plotly to which column to look in for the color\u001b[0m\n\u001b[0m         ^\u001b[0m\n\u001b[0;31mSyntaxError\u001b[0m\u001b[0;31m:\u001b[0m invalid syntax\n"
          ]
        }
      ],
      "execution_count": 27,
      "metadata": {
        "collapsed": false,
        "outputHidden": false,
        "inputHidden": false
      }
    },
    {
      "cell_type": "code",
      "source": [
        "### Cool. Plotly knows we're making a chloropleth map, and what data to use. Let's customize the display.\n",
        "layout_config = {\n",
        "    'title' : , # Give your plot a title. Should this be a string or a variable? What's the difference?\n",
        "    'geo' : { # you can leave these alone\n",
        "        'showframe' : False,\n",
        "        'showcoastlines' : False,\n",
        "        'projection': {'type': 'Mercator'}\n",
        "    }\n",
        "}\n",
        "\n",
        "### Ready to go! Let's hand our config dictionaries to plotly and check it out.\n",
        "config = {'data': [data_config], \n",
        "         'layout': layout_config}\n",
        "\npy.iplot( config, validate=False, filename='d3-world-map' ) # name your plot and we're ready to go!"
      ],
      "outputs": [
        {
          "output_type": "execute_result",
          "execution_count": 24,
          "data": {
            "text/plain": [
              "<plotly.tools.PlotlyDisplay object>"
            ],
            "text/html": [
              "<iframe id=\"igraph\" scrolling=\"no\" style=\"border:none;\" seamless=\"seamless\" src=\"https://plot.ly/~sidneymbell/8.embed\" height=\"525px\" width=\"100%\"></iframe>"
            ]
          },
          "metadata": {}
        }
      ],
      "execution_count": 24,
      "metadata": {
        "collapsed": false,
        "outputHidden": false,
        "inputHidden": false
      }
    },
    {
      "cell_type": "code",
      "source": [],
      "outputs": [],
      "execution_count": null,
      "metadata": {
        "collapsed": false,
        "outputHidden": false,
        "inputHidden": false
      }
    }
  ],
  "metadata": {
    "kernelspec": {
      "name": "python2",
      "language": "python",
      "display_name": "Python 2"
    },
    "kernel_info": {
      "name": "python2"
    },
    "language_info": {
      "mimetype": "text/x-python",
      "nbconvert_exporter": "python",
      "name": "python",
      "pygments_lexer": "ipython2",
      "version": "2.7.10",
      "file_extension": ".py",
      "codemirror_mode": {
        "version": 2,
        "name": "ipython"
      }
    },
    "nteract": {
      "version": "0.4.3"
    }
  },
  "nbformat": 4,
  "nbformat_minor": 4
}